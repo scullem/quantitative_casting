{
 "cells": [
  {
   "cell_type": "code",
   "execution_count": 2,
   "metadata": {
    "collapsed": true
   },
   "outputs": [],
   "source": [
    "import requests\n",
    "from bs4 import BeautifulSoup\n",
    "import pandas as pd\n",
    "import numpy as np\n",
    "import json\n",
    "import re\n",
    "import time\n",
    "import dateutil.parser\n",
    "from datetime import datetime\n",
    "import matplotlib.pyplot as plt\n",
    "import seaborn as sns\n",
    "from patsy import dmatrices\n",
    "import statsmodels.api as sm\n",
    "from sklearn.metrics import mean_squared_error, r2_score\n",
    "%matplotlib inline"
   ]
  },
  {
   "cell_type": "code",
   "execution_count": 107,
   "metadata": {
    "collapsed": true
   },
   "outputs": [],
   "source": [
    "# Create all functions required for web scraping\n",
    "def find_title_links(soup):\n",
    "    '''Given a beautiful soup object with movie title links, \n",
    "    get movie titles from link tags from BOM genre and actor/actress pages'''\n",
    "    titles = []\n",
    "    for item in soup.find_all('a'):\n",
    "        children = []\n",
    "        if \"/movies/?id\" in str(item):\n",
    "            for child in item.descendants:\n",
    "                children.append(child)\n",
    "            for child in children:\n",
    "                if \"<b>\" not in str(child.encode('utf-8')) and '<font color=\"#666666\">' not in str(child.encode('utf-8')):\n",
    "                    titles.append(str(child.encode('utf-8')))\n",
    "    return titles\n",
    "\n",
    "def get_movie_titles(links):\n",
    "    '''Given a list of links for BOM genre and actor/actress pages,\n",
    "    create a beautiful soup object, pull titles for each link,\n",
    "    and return a list of unique movie titles'''\n",
    "    movie_titles = []\n",
    "    for link in links:\n",
    "        url = link\n",
    "        response = requests.get(url)\n",
    "        #assert response.status_code == 200\n",
    "        page = response.text\n",
    "        soup = BeautifulSoup(page, \"lxml\")\n",
    "        table_movies = soup.find_all('table')[2]\n",
    "        titles = find_title_links(table_movies)\n",
    "        for title in titles:\n",
    "            movie_titles.append(title)\n",
    "    return list(set(movie_titles))\n",
    "\n",
    "def split_titles_yr_noyr(titles):\n",
    "    '''Given a list of titles pulled from BOM genre and actor/actress pages,\n",
    "    split them into two lists -- one without a year specified\n",
    "    and one with a list of tuples containing title and year -- and return list of lists \n",
    "    (to ensure the API query doesn't break)'''\n",
    "    titles_noyr = []\n",
    "    titles_yr = []\n",
    "    year = re.compile(r\"\\s\\([0-9]{4,4}\\)\") #regex identifies presence of year in parentheses\n",
    "    parens = re.compile(r\"\\s\\(.+\\)(\\s)?\") #regex identifies presence of other cases of parenttheses\n",
    "    for item in titles:\n",
    "        sy = year.search(item)\n",
    "        sp = parens.search(item)\n",
    "        if sy:\n",
    "            titles_yr.append((item[:sy.start()], item[(sy.start()+2):(sy.start()+6)])) #split title and year into tuple\n",
    "        elif sp:\n",
    "            titles_noyr.append(item[:sp.start()])\n",
    "        else:\n",
    "            titles_noyr.append(item)\n",
    "    return [titles_noyr, titles_yr]\n",
    "\n",
    "def get_api_query_title(titles):\n",
    "    '''Given a list of titles with and without year specified, build links to query the OMDB API\n",
    "    for cases with and without year present, and return a list of links'''\n",
    "    query = []\n",
    "    for title in titles[0]:\n",
    "        query.append(\"http://www.omdbapi.com/?t={}&type=movie&plot=short&tomatoes=true\".format(title))\n",
    "    for title_year in titles[1]:\n",
    "        query.append(\"http://www.omdbapi.com/?t={}&y={}&type=movie&plot=short&tomatoes=true\".format(title_year[0], title_year[1]))\n",
    "    return query\n",
    "\n",
    "def get_api_movie_data_title(query):\n",
    "    '''Given a list of links for movie titles in query format, query OMDB API urls, \n",
    "    scrape movie data, and return a dataframe with results by title'''\n",
    "    movie_data = []\n",
    "    for link in query:  \n",
    "        url = link\n",
    "        response = requests.get(url)\n",
    "        page = response.text\n",
    "        soup = BeautifulSoup(page, \"lxml\")\n",
    "        paragraph = soup.find('p')\n",
    "        s_dict = paragraph.contents[0]\n",
    "        title_dict = json.loads(s_dict)\n",
    "        movie_data.append(title_dict)\n",
    "    return pd.DataFrame(movie_data)\n",
    "\n",
    "def get_bom_actor_links(actors):\n",
    "    '''Given a list of actor/actress names, format with BOM link structure for getting\n",
    "    to actor/actress page of movie titles, and return a list of links'''\n",
    "    formatted = []\n",
    "    links = []\n",
    "    for actor in actors:\n",
    "        nospace = actor.replace(\" \", \"\")\n",
    "        low = nospace.lower()\n",
    "        formatted.append(low)\n",
    "    for actor in formatted:\n",
    "        links.append(\"http://www.boxofficemojo.com/people/chart/?view=Actor&id={}.htm\".format(actor))\n",
    "    return links\n",
    "\n",
    "def get_title_actor_df(links):\n",
    "    \"\"\"Given a list of actor/actress BOM links, return a dataframe that acts as a crosswalk\n",
    "    of actor/actress name and movie title\"\"\"\n",
    "    movie_dicts = []\n",
    "    headers = ['Actors', 'Title']\n",
    "    for link in links:\n",
    "        reg = re.compile(r\"id=(.+).htm\")\n",
    "        actor = re.findall(reg, link)[0]\n",
    "        url = link\n",
    "        response = requests.get(url)\n",
    "        #assert response.status_code == 200\n",
    "        page = response.text\n",
    "        soup = BeautifulSoup(page, \"lxml\")\n",
    "        table_movies = soup.find_all('table')[2]\n",
    "        titles = find_title_links(table_movies)\n",
    "        for title in titles:\n",
    "            movie_actor_dict = dict(zip(headers, [actor, title]))\n",
    "            movie_dicts.append(movie_actor_dict)\n",
    "    return pd.DataFrame(movie_dicts)\n",
    "\n",
    "def get_title_bomlinks_by_actor(links):\n",
    "    '''Given a list of actor/actress BOM links, find all titles for that actor/actress\n",
    "    and return a unique list of movie title links formatted to scrape movie data from BOM'''\n",
    "    movie_links = []\n",
    "    for link in links:\n",
    "        link_stem = []\n",
    "        url = link\n",
    "        response = requests.get(url)\n",
    "        #assert response.status_code == 200\n",
    "        page = response.text\n",
    "        soup = BeautifulSoup(page, \"lxml\")\n",
    "        table_movies = soup.find_all('table')[2]\n",
    "        for link in table_movies.find_all('a'):\n",
    "            if \"/movies/?id\" in str(link):\n",
    "                if link.has_attr('href'):\n",
    "                    link_stem.append(link['href'])\n",
    "        for link in link_stem:\n",
    "            movie_links.append(\"http://www.boxofficemojo.com{}\".format(link.encode('utf-8')))\n",
    "    return list(set(movie_links))\n",
    "\n",
    "def get_title_bomlinks_by_genre(links):\n",
    "    '''Given a list of genre BOM links, find all titles for that genre\n",
    "    and return a unique list of movie title links formatted to scrape movie data from BOM'''\n",
    "    movie_links = []\n",
    "    for link in links:\n",
    "        link_stem = []\n",
    "        url = link\n",
    "        response = requests.get(url)\n",
    "        #assert response.status_code == 200\n",
    "        page = response.text\n",
    "        soup = BeautifulSoup(page, \"lxml\")\n",
    "        table_movies = soup.find_all('table')[2]\n",
    "        for link in table_movies.find_all('a'):\n",
    "            if \"/movies/?id\" in str(link):\n",
    "                if link.has_attr('href'):\n",
    "                    link_stem.append(link['href'])\n",
    "        for link in link_stem:\n",
    "            movie_links.append(\"http://www.boxofficemojo.com{}\".format(link.encode('utf-8')))\n",
    "    return list(set(movie_links))\n",
    "\n",
    "def get_bom_movie_value(soup, field_name):\n",
    "    '''Grab a value from boxofficemojo HTML\n",
    "    Takes a string attribute of a movie on the page and\n",
    "    returns the string in the next sibling object\n",
    "    (the value for that attribute)\n",
    "    or None if nothing is found.\n",
    "    '''\n",
    "    obj = soup.find(text=re.compile(field_name))\n",
    "    if not obj: \n",
    "        return None\n",
    "    # this works for most of the values\n",
    "    next_sibling = obj.findNextSibling()\n",
    "    if next_sibling:\n",
    "        return next_sibling.text \n",
    "    else:\n",
    "        return None\n",
    "\n",
    "def dtg_to_int(moneystring):\n",
    "    '''Takes a string money value with a dollar sign and commas and returns an integer'''\n",
    "    try:\n",
    "        moneystring = moneystring.replace('$', '').replace(',', '')\n",
    "        return int(moneystring)\n",
    "    except:\n",
    "        return None\n",
    "\n",
    "def runtime_to_minutes(runtimestring):\n",
    "    '''Takes a string for running time of a movie and returns time in minutes'''\n",
    "    try:\n",
    "        runtime = runtimestring.split()\n",
    "        try:\n",
    "            minutes = int(runtime[0])*60 + int(runtime[2])\n",
    "            return minutes\n",
    "        except:\n",
    "            return None\n",
    "    except:\n",
    "        return None\n",
    "\n",
    "def budget_to_int(moneystring):\n",
    "    '''Takes a string money value for a production budget and returns an integer'''\n",
    "    try:\n",
    "        moneystring = moneystring.replace('$', '').replace(' million', '000000')\n",
    "        return moneystring\n",
    "    except:\n",
    "        return None\n",
    "\n",
    "def get_theaters(soup):\n",
    "    '''Gets theater release number from BOM movie page'''\n",
    "    try:\n",
    "        raw_theaters = soup.find_all(class_='mp_box_content')[1].find_all('td')[7]\n",
    "        return raw_theaters\n",
    "    except:\n",
    "        return None\n",
    "\n",
    "def theaters_to_int(raw_theaters):\n",
    "    '''Takes a theater release number string and returns an integer'''\n",
    "    try:\n",
    "        theaters = int(raw_theaters.text.split()[0].replace(\",\", ''))\n",
    "        return theaters\n",
    "    except:\n",
    "        return None\n",
    "\n",
    "def get_inrelease(soup):\n",
    "    '''Gets string with days/weeks in release from BOM movie page'''\n",
    "    try:\n",
    "        raw_inrelease = soup.find_all(class_='mp_box_content')[1].find_all('td')[11]\n",
    "        return raw_inrelease\n",
    "    except:\n",
    "        return None\n",
    "    \n",
    "def get_inrelease_days(inrelease):\n",
    "    '''Takes string with days/weeks in release and returns days as integer'''\n",
    "    try:\n",
    "        return int(inrelease.text.split()[0])\n",
    "    except:\n",
    "        return None\n",
    "\n",
    "def get_inrelease_weeks(inrelease):\n",
    "    '''Takes string with days/weeks in release and returns weeks as integer'''\n",
    "    try:\n",
    "        return int(inrelease.text.split()[3])\n",
    "    except:\n",
    "        return None\n",
    "\n",
    "def to_date(datestring):\n",
    "    '''Takes a date string from BOM release date from movie page and returns datetime object'''\n",
    "    try:\n",
    "        date = dateutil.parser.parse(datestring)\n",
    "        return date\n",
    "    except:\n",
    "        return None\n",
    "    \n",
    "def to_year(datetime_obj):\n",
    "    '''Takes datetime object for BOM release date and returns the year'''\n",
    "    try:\n",
    "        year = datetime_obj.year\n",
    "        return year\n",
    "    except:\n",
    "        return None\n",
    "\n",
    "def get_bom_title_data(links):\n",
    "    '''Scrapes BOM movie pages and returns a dataframe for key variables if available'''\n",
    "    bom_title_data = []\n",
    "    headers = ['Title', 'DomesticTotalGross',\n",
    "               'RuntimeMins', 'Budget', 'Theaters', 'ReleaseDays', 'ReleaseWeeks', 'ReleaseDate',\n",
    "              'ReleaseYear'\n",
    "              ]\n",
    "    for link in links:\n",
    "        url = link\n",
    "        response = requests.get(url)\n",
    "        #assert response.status_code == 200\n",
    "        page = response.text\n",
    "        soup = BeautifulSoup(page, \"lxml\")\n",
    "        raw_title = soup.find('title').text\n",
    "        title = raw_title.split('(')[0].strip()\n",
    "        raw_domestic_total_gross = get_bom_movie_value(soup,'Domestic Total')\n",
    "        domestic_total_gross = dtg_to_int(raw_domestic_total_gross)\n",
    "        raw_runtime = get_bom_movie_value(soup,'Runtime')\n",
    "        runtime = runtime_to_minutes(raw_runtime)\n",
    "        raw_budget = get_bom_movie_value(soup, 'Production Budget: ')\n",
    "        budget = budget_to_int(raw_budget)\n",
    "        raw_theaters = get_theaters(soup)\n",
    "        theaters = theaters_to_int(raw_theaters)\n",
    "        raw_inrelease = get_inrelease(soup)\n",
    "        inrelease_days = get_inrelease_days(raw_inrelease)\n",
    "        inrelease_weeks = get_inrelease_weeks(raw_inrelease)\n",
    "        raw_release_date = get_bom_movie_value(soup,'Release Date')\n",
    "        release_date = to_date(raw_release_date)\n",
    "        release_year = to_year(release_date)\n",
    "        movie_dict = dict(zip(headers, [title,\n",
    "                                        domestic_total_gross,\n",
    "                                        runtime,\n",
    "                                        budget,\n",
    "                                        theaters,\n",
    "                                        inrelease_days,\n",
    "                                        inrelease_weeks,\n",
    "                                        release_date,\n",
    "                                        release_year\n",
    "                                       ]))\n",
    "        bom_title_data.append(movie_dict)\n",
    "        #time.sleep(5)\n",
    "    return pd.DataFrame(bom_title_data)\n",
    "\n",
    "\"\"\" split_apply_combine\n",
    "in:    df_to_split - dataframe, sorted ascending by dates\n",
    "       col_to_split - column containing sorted ascending dates\n",
    "       col_id - column [director / actor / writer]\n",
    "out:   combined - df with new avg. stat\n",
    "\"\"\"\n",
    "def split_apply_combine(df_to_split, col_to_split, col_id):\n",
    "    split = pd.merge(df_to_split, df_to_split, on=col_id)\n",
    "    apply_ = split[split[col_to_split+'_x'] >= split[col_to_split+'_y']] \n",
    "    combined = apply_.groupby([col_id,col_to_split+'_x'], as_index=False).mean()\n",
    "    combined.rename(columns={col_to_split+'_x' : col_to_split}, inplace=True)\n",
    "    return combined\n",
    "\n",
    "\"\"\" split_apply_combine\n",
    "in:    sorted_df - dataframe, grouped by col_to_match and sorted ascending by dates\n",
    "       col_to_match - column df is grouped by\n",
    "       col_get_prev - value to get prev item of, if group matches, else return mean of prev\n",
    "       new_col - name of new column\n",
    "out:   combined - df with new avg. stat\n",
    "\"\"\"\n",
    "def get_last_on_match(sorted_df, col_to_match, col_get_prev, new_col):\n",
    "    \n",
    "    sorted_df[new_col] = sorted_df[col_get_prev]\n",
    "    \n",
    "    last = sorted_df.irow(0)\n",
    "    for i in range(1, sorted_df.shape[0]):\n",
    "        if (last[col_to_match] == sorted_df[col_to_match].irow(i)):\n",
    "            sorted_df[new_col][i] = last[col_get_prev]\n",
    "        else:\n",
    "            #if first movie, set it to global mean (***for now set to -1)\n",
    "            #sorted_df[new_col][i] = sorted_df[col_get_prev].mean()\n",
    "            sorted_df[new_col][i] = np.float64(-1.00)\n",
    "        last = sorted_df.irow(i) \n",
    "        \n",
    "    return(sorted_df)\n",
    "\n",
    "\"\"\" add_rolling_average\n",
    "in:    df - dataframe, grouped by col_to_match and sorted ascending by dates\n",
    "       date_col - column of dates\n",
    "       col_to_avg - column to average by dates\n",
    "       col_to_groupby - column to groupby for rolling mean\n",
    "       new_colname - name of new column to add\n",
    "       how=inner - type of merge to do (default: inner)\n",
    "out:   final - merged DF\n",
    "\"\"\"\n",
    "def add_rolling_average(df, date_col, col_to_avg, col_to_groupby, new_colname, how='inner'):\n",
    "    newdf = df[[date_col, col_to_avg, col_to_groupby]]\n",
    "    combined = split_apply_combine(newdf, date_col, col_to_groupby)\n",
    "    final = pd.merge(combined, df, on=[col_to_groupby, date_col], how=how)\n",
    "    df2 = final.sort([col_to_groupby, date_col], ascending=[1,1])\n",
    "    final2 = get_last_on_match(df2, col_to_groupby, col_to_avg+'_y', new_colname)\n",
    "    trim = final2.drop([col_to_avg+'_x',col_to_avg+'_y'], axis=1)\n",
    "    return(trim)"
   ]
  },
  {
   "cell_type": "markdown",
   "metadata": {},
   "source": [
    "# Step 1\n",
    "Pull a list of movie titles from Box Office Mojo for the comedy genre, get a dataframe with movie data about each title using OMDB API, and save scraped data"
   ]
  },
  {
   "cell_type": "code",
   "execution_count": 15,
   "metadata": {
    "collapsed": true
   },
   "outputs": [],
   "source": [
    "# Create a list of links to all categories of BOM comedy genre to scrape movie titles from\n",
    "movies_comedy = [\n",
    "\"http://www.boxofficemojo.com/genres/chart/?id=arresteddevelopment.htm\",\n",
    "\"http://www.boxofficemojo.com/genres/chart/?id=bodyswitchcomedy.htm\",\n",
    "\"http://www.boxofficemojo.com/genres/chart/?id=bumblingcomedy.htm\",\n",
    "\"http://www.boxofficemojo.com/genres/chart/?id=collegecomedy.htm\",\n",
    "\"http://www.boxofficemojo.com/genres/chart/?id=blackcomedy.htm\",\n",
    "\"http://www.boxofficemojo.com/genres/chart/?id=fatsuit.htm\",\n",
    "\"http://www.boxofficemojo.com/genres/chart/?id=daddyfishoutofwater.htm\",\n",
    "\"http://www.boxofficemojo.com/genres/chart/?id=godcomedy.htm\",\n",
    "\"http://www.boxofficemojo.com/genres/chart/?id=highschoolcomedy.htm\",\n",
    "\"http://www.boxofficemojo.com/genres/chart/?id=musiccomedy.htm\",\n",
    "\"http://www.boxofficemojo.com/genres/chart/?id=r-ratedcomedy.htm\",\n",
    "\"http://www.boxofficemojo.com/genres/chart/?id=roadtrip.htm\",\n",
    "\"http://www.boxofficemojo.com/genres/chart/?id=comedysequel.htm\",\n",
    "\"http://www.boxofficemojo.com/genres/chart/?id=spoof.htm\",\n",
    "\"http://www.boxofficemojo.com/genres/chart/?id=spycomedy.htm\",\n",
    "\"http://www.boxofficemojo.com/genres/chart/?id=whatifcomedy.htm\",\n",
    "\"http://www.boxofficemojo.com/genres/chart/?id=comedyremake.htm\"\n",
    "]"
   ]
  },
  {
   "cell_type": "code",
   "execution_count": 17,
   "metadata": {
    "collapsed": false
   },
   "outputs": [
    {
     "name": "stdout",
     "output_type": "stream",
     "text": [
      "690\n",
      "['Ernest Goes to Jail', 'Vampires Suck', 'Superhero Movie', 'Serving Sara', 'Senseless']\n",
      "[('Heaven Can Wait', '1978'), ('Nine Lives', '2016'), ('Revenge of the Nerds', '2007'), ('Unfaithfully Yours', '1984'), ('The Nutty Professor', '1996')]\n"
     ]
    }
   ],
   "source": [
    "# Get list of movie titles for comedy genre and split into year vs. no year list\n",
    "titles = split_titles_yr_noyr(get_movie_titles(movies_comedy))\n",
    "print len(titles[0]) + len(titles[1])\n",
    "print titles[0][:5]\n",
    "print titles[1][:5]"
   ]
  },
  {
   "cell_type": "code",
   "execution_count": 18,
   "metadata": {
    "collapsed": true
   },
   "outputs": [],
   "source": [
    "# Get dataframe with OMBD API movie data\n",
    "movie_omdb = get_api_movie_data_title(get_api_query_title(titles))"
   ]
  },
  {
   "cell_type": "code",
   "execution_count": 19,
   "metadata": {
    "collapsed": false
   },
   "outputs": [
    {
     "name": "stdout",
     "output_type": "stream",
     "text": [
      "<class 'pandas.core.frame.DataFrame'>\n",
      "Int64Index: 690 entries, 0 to 689\n",
      "Data columns (total 36 columns):\n",
      "Actors               662 non-null object\n",
      "Awards               662 non-null object\n",
      "BoxOffice            662 non-null object\n",
      "Country              662 non-null object\n",
      "DVD                  662 non-null object\n",
      "Director             662 non-null object\n",
      "Error                28 non-null object\n",
      "Genre                662 non-null object\n",
      "Language             662 non-null object\n",
      "Metascore            662 non-null object\n",
      "Plot                 662 non-null object\n",
      "Poster               662 non-null object\n",
      "Production           662 non-null object\n",
      "Rated                662 non-null object\n",
      "Released             662 non-null object\n",
      "Response             690 non-null object\n",
      "Runtime              662 non-null object\n",
      "Title                662 non-null object\n",
      "Type                 662 non-null object\n",
      "Website              662 non-null object\n",
      "Writer               662 non-null object\n",
      "Year                 662 non-null object\n",
      "imdbID               662 non-null object\n",
      "imdbRating           662 non-null object\n",
      "imdbVotes            662 non-null object\n",
      "tomatoConsensus      662 non-null object\n",
      "tomatoFresh          662 non-null object\n",
      "tomatoImage          662 non-null object\n",
      "tomatoMeter          662 non-null object\n",
      "tomatoRating         662 non-null object\n",
      "tomatoReviews        662 non-null object\n",
      "tomatoRotten         662 non-null object\n",
      "tomatoURL            662 non-null object\n",
      "tomatoUserMeter      662 non-null object\n",
      "tomatoUserRating     662 non-null object\n",
      "tomatoUserReviews    662 non-null object\n",
      "dtypes: object(36)\n",
      "memory usage: 199.5+ KB\n"
     ]
    }
   ],
   "source": [
    "movie_omdb.info()"
   ]
  },
  {
   "cell_type": "code",
   "execution_count": 20,
   "metadata": {
    "collapsed": false
   },
   "outputs": [
    {
     "data": {
      "text/html": [
       "<div>\n",
       "<table border=\"1\" class=\"dataframe\">\n",
       "  <thead>\n",
       "    <tr style=\"text-align: right;\">\n",
       "      <th></th>\n",
       "      <th>Actors</th>\n",
       "      <th>Awards</th>\n",
       "      <th>BoxOffice</th>\n",
       "      <th>Country</th>\n",
       "      <th>DVD</th>\n",
       "      <th>Director</th>\n",
       "      <th>Error</th>\n",
       "      <th>Genre</th>\n",
       "      <th>Language</th>\n",
       "      <th>Metascore</th>\n",
       "      <th>...</th>\n",
       "      <th>tomatoFresh</th>\n",
       "      <th>tomatoImage</th>\n",
       "      <th>tomatoMeter</th>\n",
       "      <th>tomatoRating</th>\n",
       "      <th>tomatoReviews</th>\n",
       "      <th>tomatoRotten</th>\n",
       "      <th>tomatoURL</th>\n",
       "      <th>tomatoUserMeter</th>\n",
       "      <th>tomatoUserRating</th>\n",
       "      <th>tomatoUserReviews</th>\n",
       "    </tr>\n",
       "  </thead>\n",
       "  <tbody>\n",
       "    <tr>\n",
       "      <th>0</th>\n",
       "      <td>Jim Varney, Gailard Sartain, Bill Byrge, Barba...</td>\n",
       "      <td>N/A</td>\n",
       "      <td>N/A</td>\n",
       "      <td>USA</td>\n",
       "      <td>03 Sep 2002</td>\n",
       "      <td>John R. Cherry III</td>\n",
       "      <td>NaN</td>\n",
       "      <td>Comedy, Crime, Family</td>\n",
       "      <td>English</td>\n",
       "      <td>N/A</td>\n",
       "      <td>...</td>\n",
       "      <td>1</td>\n",
       "      <td>rotten</td>\n",
       "      <td>13</td>\n",
       "      <td>3.8</td>\n",
       "      <td>8</td>\n",
       "      <td>7</td>\n",
       "      <td>http://www.rottentomatoes.com/m/ernest_goes_to...</td>\n",
       "      <td>47</td>\n",
       "      <td>2.6</td>\n",
       "      <td>42663</td>\n",
       "    </tr>\n",
       "    <tr>\n",
       "      <th>1</th>\n",
       "      <td>Jenn Proske, Matt Lanter, Diedrich Bader, Chri...</td>\n",
       "      <td>6 nominations.</td>\n",
       "      <td>$36.7M</td>\n",
       "      <td>USA</td>\n",
       "      <td>30 Nov 2010</td>\n",
       "      <td>Jason Friedberg, Aaron Seltzer</td>\n",
       "      <td>NaN</td>\n",
       "      <td>Comedy</td>\n",
       "      <td>English, German</td>\n",
       "      <td>18</td>\n",
       "      <td>...</td>\n",
       "      <td>4</td>\n",
       "      <td>rotten</td>\n",
       "      <td>5</td>\n",
       "      <td>2.2</td>\n",
       "      <td>88</td>\n",
       "      <td>84</td>\n",
       "      <td>http://www.rottentomatoes.com/m/vampires_suck/</td>\n",
       "      <td>29</td>\n",
       "      <td>2.5</td>\n",
       "      <td>75060</td>\n",
       "    </tr>\n",
       "    <tr>\n",
       "      <th>2</th>\n",
       "      <td>Drake Bell, Sara Paxton, Christopher McDonald,...</td>\n",
       "      <td>1 win.</td>\n",
       "      <td>$25.8M</td>\n",
       "      <td>USA</td>\n",
       "      <td>08 Jul 2008</td>\n",
       "      <td>Craig Mazin</td>\n",
       "      <td>NaN</td>\n",
       "      <td>Action, Comedy, Sci-Fi</td>\n",
       "      <td>English</td>\n",
       "      <td>33</td>\n",
       "      <td>...</td>\n",
       "      <td>8</td>\n",
       "      <td>rotten</td>\n",
       "      <td>16</td>\n",
       "      <td>3.6</td>\n",
       "      <td>51</td>\n",
       "      <td>43</td>\n",
       "      <td>http://www.rottentomatoes.com/m/1159618-superh...</td>\n",
       "      <td>32</td>\n",
       "      <td>2.8</td>\n",
       "      <td>156796</td>\n",
       "    </tr>\n",
       "    <tr>\n",
       "      <th>3</th>\n",
       "      <td>Matthew Perry, Elizabeth Hurley, Vincent Pasto...</td>\n",
       "      <td>N/A</td>\n",
       "      <td>$16.9M</td>\n",
       "      <td>Germany, USA</td>\n",
       "      <td>28 Jan 2003</td>\n",
       "      <td>Reginald Hudlin</td>\n",
       "      <td>NaN</td>\n",
       "      <td>Comedy, Romance</td>\n",
       "      <td>English, Spanish</td>\n",
       "      <td>18</td>\n",
       "      <td>...</td>\n",
       "      <td>5</td>\n",
       "      <td>rotten</td>\n",
       "      <td>4</td>\n",
       "      <td>3.0</td>\n",
       "      <td>112</td>\n",
       "      <td>107</td>\n",
       "      <td>http://www.rottentomatoes.com/m/serving_sara/</td>\n",
       "      <td>26</td>\n",
       "      <td>2.4</td>\n",
       "      <td>27050</td>\n",
       "    </tr>\n",
       "    <tr>\n",
       "      <th>4</th>\n",
       "      <td>Marlon Wayans, Brad Dourif, Esther Scott, Debr...</td>\n",
       "      <td>N/A</td>\n",
       "      <td>N/A</td>\n",
       "      <td>USA</td>\n",
       "      <td>07 Dec 1999</td>\n",
       "      <td>Penelope Spheeris</td>\n",
       "      <td>NaN</td>\n",
       "      <td>Comedy, Romance</td>\n",
       "      <td>English</td>\n",
       "      <td>36</td>\n",
       "      <td>...</td>\n",
       "      <td>1</td>\n",
       "      <td>rotten</td>\n",
       "      <td>6</td>\n",
       "      <td>3.4</td>\n",
       "      <td>16</td>\n",
       "      <td>15</td>\n",
       "      <td>http://www.rottentomatoes.com/m/1081501-sensel...</td>\n",
       "      <td>46</td>\n",
       "      <td>2.9</td>\n",
       "      <td>10047</td>\n",
       "    </tr>\n",
       "  </tbody>\n",
       "</table>\n",
       "<p>5 rows × 36 columns</p>\n",
       "</div>"
      ],
      "text/plain": [
       "                                              Actors          Awards  \\\n",
       "0  Jim Varney, Gailard Sartain, Bill Byrge, Barba...             N/A   \n",
       "1  Jenn Proske, Matt Lanter, Diedrich Bader, Chri...  6 nominations.   \n",
       "2  Drake Bell, Sara Paxton, Christopher McDonald,...          1 win.   \n",
       "3  Matthew Perry, Elizabeth Hurley, Vincent Pasto...             N/A   \n",
       "4  Marlon Wayans, Brad Dourif, Esther Scott, Debr...             N/A   \n",
       "\n",
       "  BoxOffice       Country          DVD                        Director Error  \\\n",
       "0       N/A           USA  03 Sep 2002              John R. Cherry III   NaN   \n",
       "1    $36.7M           USA  30 Nov 2010  Jason Friedberg, Aaron Seltzer   NaN   \n",
       "2    $25.8M           USA  08 Jul 2008                     Craig Mazin   NaN   \n",
       "3    $16.9M  Germany, USA  28 Jan 2003                 Reginald Hudlin   NaN   \n",
       "4       N/A           USA  07 Dec 1999               Penelope Spheeris   NaN   \n",
       "\n",
       "                    Genre          Language Metascore        ...         \\\n",
       "0   Comedy, Crime, Family           English       N/A        ...          \n",
       "1                  Comedy   English, German        18        ...          \n",
       "2  Action, Comedy, Sci-Fi           English        33        ...          \n",
       "3         Comedy, Romance  English, Spanish        18        ...          \n",
       "4         Comedy, Romance           English        36        ...          \n",
       "\n",
       "  tomatoFresh tomatoImage tomatoMeter tomatoRating tomatoReviews tomatoRotten  \\\n",
       "0           1      rotten          13          3.8             8            7   \n",
       "1           4      rotten           5          2.2            88           84   \n",
       "2           8      rotten          16          3.6            51           43   \n",
       "3           5      rotten           4          3.0           112          107   \n",
       "4           1      rotten           6          3.4            16           15   \n",
       "\n",
       "                                           tomatoURL tomatoUserMeter  \\\n",
       "0  http://www.rottentomatoes.com/m/ernest_goes_to...              47   \n",
       "1     http://www.rottentomatoes.com/m/vampires_suck/              29   \n",
       "2  http://www.rottentomatoes.com/m/1159618-superh...              32   \n",
       "3      http://www.rottentomatoes.com/m/serving_sara/              26   \n",
       "4  http://www.rottentomatoes.com/m/1081501-sensel...              46   \n",
       "\n",
       "  tomatoUserRating tomatoUserReviews  \n",
       "0              2.6             42663  \n",
       "1              2.5             75060  \n",
       "2              2.8            156796  \n",
       "3              2.4             27050  \n",
       "4              2.9             10047  \n",
       "\n",
       "[5 rows x 36 columns]"
      ]
     },
     "execution_count": 20,
     "metadata": {},
     "output_type": "execute_result"
    }
   ],
   "source": [
    "movie_omdb.head()"
   ]
  },
  {
   "cell_type": "code",
   "execution_count": 22,
   "metadata": {
    "collapsed": false
   },
   "outputs": [],
   "source": [
    "#Clean out Error records (movie not found in the API), drop Error column, and save data as csv\n",
    "movie_omdb = movie_omdb[movie_omdb['Error'] != 'Movie not found!']\n",
    "movie_omdb.drop('Error', inplace = True, axis = 1)\n",
    "movie_omdb.to_csv(\"movies_comedy_omdb.csv\", encoding='utf-8', index = False)"
   ]
  },
  {
   "cell_type": "markdown",
   "metadata": {},
   "source": [
    "# Step 2\n",
    "Restrict the list of comedy movies to only films released from the year 2000 to present, identify the list of actors/actresses appearing in those films, pull movie data for full film history for each actor/actress, and create cumulative average scores for each actor-film."
   ]
  },
  {
   "cell_type": "code",
   "execution_count": 3,
   "metadata": {
    "collapsed": false
   },
   "outputs": [],
   "source": [
    "movie_omdb = pd.read_csv(\"movies_comedy_omdb.csv\")"
   ]
  },
  {
   "cell_type": "code",
   "execution_count": null,
   "metadata": {
    "collapsed": true
   },
   "outputs": [],
   "source": [
    "movie_omdb_2000 = movie_omdb[\n",
    "    (movie_omdb['Year'] >= 2000) & (pd.notnull(movie_omdb['Actors']))]"
   ]
  },
  {
   "cell_type": "code",
   "execution_count": null,
   "metadata": {
    "collapsed": true
   },
   "outputs": [],
   "source": [
    "# Create a series that splits cells with multiple actors/actresses into \n",
    "# individual rows, strip white space from around the names, and give the \n",
    "# series the name Actors\n",
    "s = movie_omdb_2000['Actors'].str.split(',').apply(pd.Series, 1).stack()\n",
    "s.index = s.index.droplevel(-1) # to line up with df's index\n",
    "s.name = 'Actor' # needs a name to join\n",
    "s_cl = s.str.strip()\n",
    "print s_cl[0:5]"
   ]
  },
  {
   "cell_type": "code",
   "execution_count": null,
   "metadata": {
    "collapsed": true
   },
   "outputs": [],
   "source": [
    "# Create a copy of the unique by movie dataframe, drop the Actors field,\n",
    "# and join the series on index to create a movie-actor level dataframe\n",
    "movie_omdb_actors_2000 = movie_omdb_2000.copy()\n",
    "movie_omdb_actors_2000 = movie_omdb_actors_2000.join(s_cl)"
   ]
  },
  {
   "cell_type": "code",
   "execution_count": null,
   "metadata": {
    "collapsed": true
   },
   "outputs": [],
   "source": [
    "# Create a new dataframe with each actor/actress and the count of films\n",
    "actors_to_get = movie_omdb_actors_2000[['Actor', 'Title']].groupby(\n",
    "    'Actor', as_index = False).count()\n",
    "actors_to_get.columns = ['Actor', 'TitleCnt']"
   ]
  },
  {
   "cell_type": "code",
   "execution_count": null,
   "metadata": {
    "collapsed": true
   },
   "outputs": [],
   "source": [
    "# Create a lowercase concatenated version of actor/actress first/last name\n",
    "actors_to_get['format'] = actors_to_get.Actor.apply(\n",
    "    lambda x: x.replace('-', '').replace('.', '').replace(\" \", '').lower())"
   ]
  },
  {
   "cell_type": "code",
   "execution_count": null,
   "metadata": {
    "collapsed": true
   },
   "outputs": [],
   "source": [
    "# Build links to scrape BOM actor/actress pages for movie titles\n",
    "actors_to_get['bomLink'] = actors_to_get.Actor.apply(\n",
    "    lambda x: \"http://www.boxofficemojo.com/people/chart/?view=Actor&id={}.htm\".format(\n",
    "        x.replace('-', '').replace('.', '').replace(\" \", '').lower()))"
   ]
  },
  {
   "cell_type": "code",
   "execution_count": null,
   "metadata": {
    "collapsed": true
   },
   "outputs": [],
   "source": [
    "# Create a list of actor/actress links for scraping\n",
    "actors_link_list = actors_to_get['bomLink'].tolist()"
   ]
  },
  {
   "cell_type": "code",
   "execution_count": null,
   "metadata": {
    "collapsed": true
   },
   "outputs": [],
   "source": [
    "# Clean actor/actress link list of bad links (not availabe on BOM)\n",
    "actors_drop = ['http://www.boxofficemojo.com/people/chart/?view=Actor&id=davidkoechner.htm',\n",
    "    'http://www.boxofficemojo.com/people/chart/?view=Actor&id=diedrichbader.htm',\n",
    "    'http://www.boxofficemojo.com/people/chart/?view=Actor&id=dwaynejohnson.htm',\n",
    "    'http://www.boxofficemojo.com/people/chart/?view=Actor&id=tikasumpter.htm',\n",
    "    'http://www.boxofficemojo.com/people/chart/?view=Actor&id=robbieamell.htm',\n",
    "    'http://www.boxofficemojo.com/people/chart/?view=Actor&id=chlo\\xc3\\xabgracemoretz.htm',\n",
    "    'http://www.boxofficemojo.com/people/chart/?view=Actor&id=victoriajustice.htm',\n",
    "    'http://www.boxofficemojo.com/people/chart/?view=Actor&id=essenceatkins.htm',\n",
    "    'http://www.boxofficemojo.com/people/chart/?view=Actor&id=maiarawalsh.htm',\n",
    "    'http://www.boxofficemojo.com/people/chart/?view=Actor&id=jacksonnicoll.htm',\n",
    "    'http://www.boxofficemojo.com/people/chart/?view=Actor&id=brittanysnow.htm',\n",
    "    'http://www.boxofficemojo.com/people/chart/?view=Actor&id=jeffdaniels.htm',\n",
    "    'http://www.boxofficemojo.com/people/chart/?view=Actor&id=laurieholden.htm']\n",
    "\n",
    "actors_link_list_cl = []\n",
    "for link in actors_link_list:\n",
    "    if link not in actors_drop:\n",
    "        actors_link_list_cl.append(link)"
   ]
  },
  {
   "cell_type": "code",
   "execution_count": null,
   "metadata": {
    "collapsed": true
   },
   "outputs": [],
   "source": [
    "# Scrape BOM for a list of titles for actor/actress movie history\n",
    "movies_to_get = get_title_bomlinks_by_actor(actors_link_list_cl)"
   ]
  },
  {
   "cell_type": "code",
   "execution_count": null,
   "metadata": {
    "collapsed": true
   },
   "outputs": [],
   "source": [
    "# Scrape BOM using the list of titles by actor/actress to scrape BOM\n",
    "# movie data for actor/actress film history\n",
    "movies_actors = get_bom_title_data(movies_to_get)"
   ]
  },
  {
   "cell_type": "code",
   "execution_count": null,
   "metadata": {
    "collapsed": true
   },
   "outputs": [],
   "source": [
    "# Create a crosswalk between actor name and movie title for matching movie data back to actors\n",
    "actor_title_crosswalk = get_title_actor_df(actors_link_list_cl)"
   ]
  },
  {
   "cell_type": "code",
   "execution_count": null,
   "metadata": {
    "collapsed": true
   },
   "outputs": [],
   "source": [
    "# Append actor/actress names to BOM movie data\n",
    "actor_titles_bom = pd.merge(\n",
    "    actor_title_crosswalk, movies_actors, on = 'Title').sort_values(by = 'ReleaseDate')"
   ]
  },
  {
   "cell_type": "code",
   "execution_count": null,
   "metadata": {
    "collapsed": true
   },
   "outputs": [],
   "source": [
    "# Clear out additional bad records. Actors with count of 282 titles are from missing \n",
    "# BOM links for actors/actresses\n",
    "actor_good = actor_titles_bom[['Actors', 'Title']].groupby(\n",
    "    'Actors', as_index = False).count()[actor_titles_bom[['Actors', 'Title']].groupby(\n",
    "        'Actors', as_index = False).count()['Title']< 282]\n",
    "actor_good.columns = ['Actors', 'FilmCnt']"
   ]
  },
  {
   "cell_type": "code",
   "execution_count": null,
   "metadata": {
    "collapsed": true
   },
   "outputs": [],
   "source": [
    "# Cut down the dataframe with actor names and BOM movie data to only good actor/actress records\n",
    "actor_titles_bom_good = pd.merge(actor_titles_bom, actor_good, on = 'Actors').sort_values(\n",
    "    by = 'ReleaseDate')"
   ]
  },
  {
   "cell_type": "code",
   "execution_count": null,
   "metadata": {
    "collapsed": true
   },
   "outputs": [],
   "source": [
    "actor_titles_bom_good['DtgMillions'] = actor_titles_bom_good['DomesticTotalGross']/1000000\n",
    "actor_titles_bom_good['Budget'] = actor_titles_bom_good['Budget'].replace('N/A', np.nan)"
   ]
  },
  {
   "cell_type": "code",
   "execution_count": null,
   "metadata": {
    "collapsed": true
   },
   "outputs": [],
   "source": [
    "# Add cumulative Domestic Total Gross average score for each actor and movie combination\n",
    "actor_titles_dtg_score = add_rolling_average(\n",
    "    actor_titles_bom_good, 'ReleaseDate', 'DtgMillions', 'Actors', 'DtgRollingAvg').sort_values(\n",
    "by = 'Title')"
   ]
  },
  {
   "cell_type": "code",
   "execution_count": null,
   "metadata": {
    "collapsed": true
   },
   "outputs": [],
   "source": [
    "actor_titles_dtg_score.to_csv('DTG_SCORE.csv', index = False)"
   ]
  },
  {
   "cell_type": "code",
   "execution_count": 122,
   "metadata": {
    "collapsed": true
   },
   "outputs": [],
   "source": [
    "# Save crosswalk to csv\n",
    "actor_title_crosswalk.to_csv(\"actor_title_crosswalk.csv\", index = False)"
   ]
  },
  {
   "cell_type": "markdown",
   "metadata": {},
   "source": [
    "# Step 3\n",
    "Append actor scores to the original list of comedy movies since 2000 and split dataset into a training and a test set"
   ]
  },
  {
   "cell_type": "code",
   "execution_count": null,
   "metadata": {
    "collapsed": true
   },
   "outputs": [],
   "source": [
    "df_score = pd.read_csv('DTG_Score.csv')\n",
    "movie_omdb = pd.read_csv(\"movies_comedy_omdb.csv\")"
   ]
  },
  {
   "cell_type": "code",
   "execution_count": null,
   "metadata": {
    "collapsed": true
   },
   "outputs": [],
   "source": [
    "# Take data at actor-film level and create columns for number of actors to collapse to \n",
    "# film level and retain the first 4 actors listed.\n",
    "df_unstack = df_score[['Actors', 'Title', 'DtgRollingAvg']]\n",
    "df_unstack['block'] = (df_unstack['Title'] != df_unstack['Title'].shift(1)).astype(int).cumsum()\n",
    "df_unstack['ActorCnt'] = df_unstack.groupby('block').transform(lambda x: (range(1, len(x) + 1)))\n",
    "df_pivot = df_unstack.pivot(index='Title', columns='ActorCnt', values='DtgRollingAvg')\n",
    "df_pivot_4 = df_pivot[[1, 2, 3, 4]]\n",
    "df_pivot_4.columns = ['Actor1', 'Actor2', 'Actor3', 'Actor4']\n",
    "df_pivot_4 = df_pivot.replace(-1, np.nan)"
   ]
  },
  {
   "cell_type": "code",
   "execution_count": null,
   "metadata": {
    "collapsed": true
   },
   "outputs": [],
   "source": [
    "# Create multiple score options per film that combines the scores of the actors listed\n",
    "df_pivot_4['Score_avg'] = df_pivot_4.mean(axis=1)\n",
    "df_pivot_4['Score_max'] = df_pivot_4.max(axis=1)\n",
    "df_pivot_4['Score_product'] = df_pivot_4.product(axis=1)\n",
    "df_pivot_4['Title'] = df_pivot_4.index"
   ]
  },
  {
   "cell_type": "code",
   "execution_count": null,
   "metadata": {
    "collapsed": true
   },
   "outputs": [],
   "source": [
    "# Get unique BOM data by movie title and append film scores\n",
    "df_titles = df_score.drop(['Actors', 'FilmCnt', 'DtgRollingAvg'], axis = 1)\n",
    "df_titles.drop_duplicates('Title', inplace = True)\n",
    "df_titles_scored = pd.merge(df_titles, df_pivot_4, on = 'Title')"
   ]
  },
  {
   "cell_type": "code",
   "execution_count": null,
   "metadata": {
    "collapsed": true
   },
   "outputs": [],
   "source": [
    "# Cut down original list of comedy film data to year 2000 or more where Actor data is present\n",
    "movie_omdb_2000 = movie_omdb[(movie_omdb['Year'] >= 2000) & (pd.notnull(movie_omdb['Actors']))]"
   ]
  },
  {
   "cell_type": "code",
   "execution_count": null,
   "metadata": {
    "collapsed": true
   },
   "outputs": [],
   "source": [
    "# Create a common version of the movie title to merge the original comedy movie data from\n",
    "# the OMDB API with the BOM movie data. Strip out all punctuation and whitespace.\n",
    "movie_omdb_2000['TitleMatch'] = movie_omdb_2000.Title.apply(\n",
    "    lambda x: x.replace(\" \",'').replace(\"'\",'').replace(\",\",'').replace(\".\", '').replace(\n",
    "        \"!\",'').replace(\":\", '').replace(\"-\",'').replace(\"?\",'').replace(\"&\", '').lower())\n",
    "df_titles_scored['TitleMatch'] = df_titles_scored.Title.apply(\n",
    "    lambda x: x.replace(\" \",'').replace(\"'\",'').replace(\",\",'').replace(\".\", '').replace(\n",
    "        \"!\",'').replace(\":\", '').replace(\"-\",'').replace(\"?\",'').replace(\"&\", '').lower())\n",
    "movie_merge = pd.merge(movie_omdb_2000, df_titles_scored, on = 'TitleMatch')"
   ]
  },
  {
   "cell_type": "code",
   "execution_count": null,
   "metadata": {
    "collapsed": true
   },
   "outputs": [],
   "source": [
    "# Create additional variables for modeling\n",
    "movie_merge['Budget'] = movie_merge.Budget.apply(lambda x: float(str(x).replace(\",\",'')))\n",
    "movie_merge['BudgetMillions'] = movie_merge['Budget']/1000000.0\n",
    "movie_merge['Log_Score_avg'] = np.log(movie_merge['Score_avg'])\n",
    "movie_merge['Log_Score_max'] = np.log(movie_merge['Score_max'])\n",
    "movie_merge['Log_Score_product'] = np.log(movie_merge['Score_product'])\n",
    "movie_merge['Log_DtgMillions'] = np.log(movie_merge['DtgMillions'])"
   ]
  },
  {
   "cell_type": "code",
   "execution_count": null,
   "metadata": {
    "collapsed": true
   },
   "outputs": [],
   "source": [
    "# Split data into train and test datasets\n",
    "msk = np.random.rand(len(movie_merge)) < 0.7\n",
    "train = movie_merge[msk]\n",
    "test = movie_merge[~msk]"
   ]
  },
  {
   "cell_type": "code",
   "execution_count": null,
   "metadata": {
    "collapsed": true
   },
   "outputs": [],
   "source": [
    "train.to_csv('Train.csv', index = False)"
   ]
  },
  {
   "cell_type": "code",
   "execution_count": null,
   "metadata": {
    "collapsed": true
   },
   "outputs": [],
   "source": [
    "test.to_csv('Test.csv', index = False)"
   ]
  }
 ],
 "metadata": {
  "kernelspec": {
   "display_name": "Python 2",
   "language": "python",
   "name": "python2"
  },
  "language_info": {
   "codemirror_mode": {
    "name": "ipython",
    "version": 2
   },
   "file_extension": ".py",
   "mimetype": "text/x-python",
   "name": "python",
   "nbconvert_exporter": "python",
   "pygments_lexer": "ipython2",
   "version": "2.7.10"
  }
 },
 "nbformat": 4,
 "nbformat_minor": 0
}
